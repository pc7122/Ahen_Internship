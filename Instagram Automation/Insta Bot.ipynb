{
 "cells": [
  {
   "cell_type": "code",
   "execution_count": 1,
   "id": "8ddc02c4",
   "metadata": {},
   "outputs": [
    {
     "ename": "NoSuchWindowException",
     "evalue": "Message: no such window: target window already closed\nfrom unknown error: web view not found\n  (Session info: chrome=109.0.5414.120)\nStacktrace:\nBacktrace:\n\t(No symbol) [0x01176643]\n\t(No symbol) [0x0110BE21]\n\t(No symbol) [0x0100DA9D]\n\t(No symbol) [0x00FEEF6A]\n\t(No symbol) [0x01063AAB]\n\t(No symbol) [0x010761B6]\n\t(No symbol) [0x0105FB76]\n\t(No symbol) [0x010349C1]\n\t(No symbol) [0x01035E5D]\n\tGetHandleVerifier [0x013EA142+2497106]\n\tGetHandleVerifier [0x014185D3+2686691]\n\tGetHandleVerifier [0x0141BB9C+2700460]\n\tGetHandleVerifier [0x01223B10+635936]\n\t(No symbol) [0x01114A1F]\n\t(No symbol) [0x0111A418]\n\t(No symbol) [0x0111A505]\n\t(No symbol) [0x0112508B]\n\tBaseThreadInitThunk [0x75F000F9+25]\n\tRtlGetAppContainerNamedObjectPath [0x77DB7BBE+286]\n\tRtlGetAppContainerNamedObjectPath [0x77DB7B8E+238]\n",
     "output_type": "error",
     "traceback": [
      "\u001b[1;31m---------------------------------------------------------------------------\u001b[0m",
      "\u001b[1;31mNoSuchWindowException\u001b[0m                     Traceback (most recent call last)",
      "Cell \u001b[1;32mIn[1], line 14\u001b[0m\n\u001b[0;32m     11\u001b[0m driver\u001b[38;5;241m.\u001b[39mget(\u001b[38;5;124m\"\u001b[39m\u001b[38;5;124mhttps://www.instagram.com/\u001b[39m\u001b[38;5;124m\"\u001b[39m)\n\u001b[0;32m     12\u001b[0m time\u001b[38;5;241m.\u001b[39msleep(\u001b[38;5;241m3\u001b[39m)\n\u001b[1;32m---> 14\u001b[0m username \u001b[38;5;241m=\u001b[39m \u001b[43mdriver\u001b[49m\u001b[38;5;241;43m.\u001b[39;49m\u001b[43mfind_element\u001b[49m\u001b[43m(\u001b[49m\u001b[43mby\u001b[49m\u001b[38;5;241;43m=\u001b[39;49m\u001b[38;5;124;43m\"\u001b[39;49m\u001b[38;5;124;43mname\u001b[39;49m\u001b[38;5;124;43m\"\u001b[39;49m\u001b[43m,\u001b[49m\u001b[43m \u001b[49m\u001b[43mvalue\u001b[49m\u001b[38;5;241;43m=\u001b[39;49m\u001b[38;5;124;43m\"\u001b[39;49m\u001b[38;5;124;43musername\u001b[39;49m\u001b[38;5;124;43m\"\u001b[39;49m\u001b[43m)\u001b[49m\n\u001b[0;32m     15\u001b[0m password \u001b[38;5;241m=\u001b[39m driver\u001b[38;5;241m.\u001b[39mfind_element(by\u001b[38;5;241m=\u001b[39m\u001b[38;5;124m\"\u001b[39m\u001b[38;5;124mname\u001b[39m\u001b[38;5;124m\"\u001b[39m, value\u001b[38;5;241m=\u001b[39m\u001b[38;5;124m\"\u001b[39m\u001b[38;5;124mpassword\u001b[39m\u001b[38;5;124m\"\u001b[39m)\n\u001b[0;32m     17\u001b[0m username\u001b[38;5;241m.\u001b[39mclear()\n",
      "File \u001b[1;32mD:\\Programming\\Machine Learning\\mlenv\\Lib\\site-packages\\selenium\\webdriver\\remote\\webdriver.py:830\u001b[0m, in \u001b[0;36mWebDriver.find_element\u001b[1;34m(self, by, value)\u001b[0m\n\u001b[0;32m    827\u001b[0m     by \u001b[38;5;241m=\u001b[39m By\u001b[38;5;241m.\u001b[39mCSS_SELECTOR\n\u001b[0;32m    828\u001b[0m     value \u001b[38;5;241m=\u001b[39m \u001b[38;5;124mf\u001b[39m\u001b[38;5;124m'\u001b[39m\u001b[38;5;124m[name=\u001b[39m\u001b[38;5;124m\"\u001b[39m\u001b[38;5;132;01m{\u001b[39;00mvalue\u001b[38;5;132;01m}\u001b[39;00m\u001b[38;5;124m\"\u001b[39m\u001b[38;5;124m]\u001b[39m\u001b[38;5;124m'\u001b[39m\n\u001b[1;32m--> 830\u001b[0m \u001b[38;5;28;01mreturn\u001b[39;00m \u001b[38;5;28;43mself\u001b[39;49m\u001b[38;5;241;43m.\u001b[39;49m\u001b[43mexecute\u001b[49m\u001b[43m(\u001b[49m\u001b[43mCommand\u001b[49m\u001b[38;5;241;43m.\u001b[39;49m\u001b[43mFIND_ELEMENT\u001b[49m\u001b[43m,\u001b[49m\u001b[43m \u001b[49m\u001b[43m{\u001b[49m\u001b[38;5;124;43m\"\u001b[39;49m\u001b[38;5;124;43musing\u001b[39;49m\u001b[38;5;124;43m\"\u001b[39;49m\u001b[43m:\u001b[49m\u001b[43m \u001b[49m\u001b[43mby\u001b[49m\u001b[43m,\u001b[49m\u001b[43m \u001b[49m\u001b[38;5;124;43m\"\u001b[39;49m\u001b[38;5;124;43mvalue\u001b[39;49m\u001b[38;5;124;43m\"\u001b[39;49m\u001b[43m:\u001b[49m\u001b[43m \u001b[49m\u001b[43mvalue\u001b[49m\u001b[43m}\u001b[49m\u001b[43m)\u001b[49m[\u001b[38;5;124m\"\u001b[39m\u001b[38;5;124mvalue\u001b[39m\u001b[38;5;124m\"\u001b[39m]\n",
      "File \u001b[1;32mD:\\Programming\\Machine Learning\\mlenv\\Lib\\site-packages\\selenium\\webdriver\\remote\\webdriver.py:440\u001b[0m, in \u001b[0;36mWebDriver.execute\u001b[1;34m(self, driver_command, params)\u001b[0m\n\u001b[0;32m    438\u001b[0m response \u001b[38;5;241m=\u001b[39m \u001b[38;5;28mself\u001b[39m\u001b[38;5;241m.\u001b[39mcommand_executor\u001b[38;5;241m.\u001b[39mexecute(driver_command, params)\n\u001b[0;32m    439\u001b[0m \u001b[38;5;28;01mif\u001b[39;00m response:\n\u001b[1;32m--> 440\u001b[0m     \u001b[38;5;28;43mself\u001b[39;49m\u001b[38;5;241;43m.\u001b[39;49m\u001b[43merror_handler\u001b[49m\u001b[38;5;241;43m.\u001b[39;49m\u001b[43mcheck_response\u001b[49m\u001b[43m(\u001b[49m\u001b[43mresponse\u001b[49m\u001b[43m)\u001b[49m\n\u001b[0;32m    441\u001b[0m     response[\u001b[38;5;124m\"\u001b[39m\u001b[38;5;124mvalue\u001b[39m\u001b[38;5;124m\"\u001b[39m] \u001b[38;5;241m=\u001b[39m \u001b[38;5;28mself\u001b[39m\u001b[38;5;241m.\u001b[39m_unwrap_value(response\u001b[38;5;241m.\u001b[39mget(\u001b[38;5;124m\"\u001b[39m\u001b[38;5;124mvalue\u001b[39m\u001b[38;5;124m\"\u001b[39m, \u001b[38;5;28;01mNone\u001b[39;00m))\n\u001b[0;32m    442\u001b[0m     \u001b[38;5;28;01mreturn\u001b[39;00m response\n",
      "File \u001b[1;32mD:\\Programming\\Machine Learning\\mlenv\\Lib\\site-packages\\selenium\\webdriver\\remote\\errorhandler.py:245\u001b[0m, in \u001b[0;36mErrorHandler.check_response\u001b[1;34m(self, response)\u001b[0m\n\u001b[0;32m    243\u001b[0m         alert_text \u001b[38;5;241m=\u001b[39m value[\u001b[38;5;124m\"\u001b[39m\u001b[38;5;124malert\u001b[39m\u001b[38;5;124m\"\u001b[39m]\u001b[38;5;241m.\u001b[39mget(\u001b[38;5;124m\"\u001b[39m\u001b[38;5;124mtext\u001b[39m\u001b[38;5;124m\"\u001b[39m)\n\u001b[0;32m    244\u001b[0m     \u001b[38;5;28;01mraise\u001b[39;00m exception_class(message, screen, stacktrace, alert_text)  \u001b[38;5;66;03m# type: ignore[call-arg]  # mypy is not smart enough here\u001b[39;00m\n\u001b[1;32m--> 245\u001b[0m \u001b[38;5;28;01mraise\u001b[39;00m exception_class(message, screen, stacktrace)\n",
      "\u001b[1;31mNoSuchWindowException\u001b[0m: Message: no such window: target window already closed\nfrom unknown error: web view not found\n  (Session info: chrome=109.0.5414.120)\nStacktrace:\nBacktrace:\n\t(No symbol) [0x01176643]\n\t(No symbol) [0x0110BE21]\n\t(No symbol) [0x0100DA9D]\n\t(No symbol) [0x00FEEF6A]\n\t(No symbol) [0x01063AAB]\n\t(No symbol) [0x010761B6]\n\t(No symbol) [0x0105FB76]\n\t(No symbol) [0x010349C1]\n\t(No symbol) [0x01035E5D]\n\tGetHandleVerifier [0x013EA142+2497106]\n\tGetHandleVerifier [0x014185D3+2686691]\n\tGetHandleVerifier [0x0141BB9C+2700460]\n\tGetHandleVerifier [0x01223B10+635936]\n\t(No symbol) [0x01114A1F]\n\t(No symbol) [0x0111A418]\n\t(No symbol) [0x0111A505]\n\t(No symbol) [0x0112508B]\n\tBaseThreadInitThunk [0x75F000F9+25]\n\tRtlGetAppContainerNamedObjectPath [0x77DB7BBE+286]\n\tRtlGetAppContainerNamedObjectPath [0x77DB7B8E+238]\n"
     ]
    }
   ],
   "source": [
    "from bs4 import BeautifulSoup as bs\n",
    "from selenium import webdriver\n",
    "from selenium.webdriver.common.by import By\n",
    "from selenium.webdriver.common.keys import Keys\n",
    "\n",
    "import time\n",
    "\n",
    "driver = webdriver.Chrome()\n",
    "time.sleep(2)\n",
    "\n",
    "driver.get(\"https://www.instagram.com/\")\n",
    "time.sleep(3)\n",
    "\n",
    "username = driver.find_element(by=\"name\", value=\"username\")\n",
    "password = driver.find_element(by=\"name\", value=\"password\")\n",
    "\n",
    "username.clear()\n",
    "password.clear()\n",
    "\n",
    "username.send_keys(\"farhaknight\")\n",
    "password.send_keys(\"Farhanattar@1234\")\n",
    "password.send_keys(Keys.RETURN)\n",
    "#driver.find_element(By.XPATH, \"/html/body/div[2]/div/div/div/div[1]/div/div/div/div[1]/section/main/article/div[2]/div[1]/div[2]/form/div/div[3]\").click()\n",
    "time.sleep(5)\n",
    "\n",
    "try:\n",
    "    notnow = driver.find_elements(By.TAG_NAME, \"button\")[1]\n",
    "    if notnow.text == \"Not Now\":\n",
    "        notnow.click()\n",
    "        time.sleep(2)\n",
    "except:\n",
    "    print('Error')\n",
    "    \n",
    "driver.find_element(By.CLASS_NAME, value=\"_a9-z\").click()\n",
    "time.sleep(2)\n",
    "\n",
    "posts = driver.find_elements(By.TAG_NAME, value=\"article\")\n",
    "print(len(posts))\n",
    "for post in posts:\n",
    "    post.find_elements(By.CLASS_NAME, \"_abl-\")[1].click()\n",
    "    time.sleep(2)\n",
    "\n",
    "driver.execute_script(\"window.scrollTo(0,10000)\")\n",
    "time.sleep(4)\n",
    "\n",
    "posts = driver.find_elements(By.TAG_NAME, value=\"article\")\n",
    "print(len(posts))\n",
    "for post in posts:\n",
    "    try:\n",
    "        post.find_elements(By.CLASS_NAME, \"_abl-\")[1].click()\n",
    "        time.sleep(2)\n",
    "    except:\n",
    "        print('Done')\n",
    "        break"
   ]
  },
  {
   "cell_type": "code",
   "execution_count": 2,
   "id": "5f0725a6",
   "metadata": {},
   "outputs": [],
   "source": [
    "driver.find_element(By.XPATH, \"/html/body/div[2]/div/div/div/div[1]/div/div/div/div[1]/div[1]/div[1]/div/div/div/div/div[2]/div[2]/div/a\").click()\n",
    "time.sleep(2)\n",
    "driver.find_element(By.CSS_SELECTOR, \"input._aauy\").send_keys(\"_tanuuuvi\")\n",
    "time.sleep(3)\n",
    "con = driver.find_element(By.XPATH, \"/html/body/div[2]/div/div/div/div[1]/div/div/div/div[1]/div[1]/div[1]/div/div/div[2]/div/div/div[2]/div[2]/div\")\n",
    "con.find_elements(By.TAG_NAME, \"div\")[0].click()"
   ]
  }
 ],
 "metadata": {
  "kernelspec": {
   "display_name": "Python 3 (ipykernel)",
   "language": "python",
   "name": "python3"
  },
  "language_info": {
   "codemirror_mode": {
    "name": "ipython",
    "version": 3
   },
   "file_extension": ".py",
   "mimetype": "text/x-python",
   "name": "python",
   "nbconvert_exporter": "python",
   "pygments_lexer": "ipython3",
   "version": "3.11.0"
  },
  "vscode": {
   "interpreter": {
    "hash": "615795819932dfcc7ead93a06f685c82f8615243aabb4975adc442803bd5e3de"
   }
  }
 },
 "nbformat": 4,
 "nbformat_minor": 5
}
